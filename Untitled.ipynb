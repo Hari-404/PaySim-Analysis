{
 "cells": [
  {
   "cell_type": "code",
   "execution_count": 1,
   "metadata": {},
   "outputs": [],
   "source": [
    "import pandas as pd\n",
    "import numpy as np\n",
    "import matplotlib.pyplot as plt\n",
    "import seaborn as sns\n",
    "\n",
    "import warnings\n",
    "warnings.filterwarnings('ignore')"
   ]
  },
  {
   "cell_type": "code",
   "execution_count": 2,
   "metadata": {},
   "outputs": [],
   "source": [
    "data = pd.read_csv('fraud_pred.csv')"
   ]
  },
  {
   "cell_type": "code",
   "execution_count": 3,
   "metadata": {},
   "outputs": [
    {
     "data": {
      "text/html": [
       "<div>\n",
       "<style scoped>\n",
       "    .dataframe tbody tr th:only-of-type {\n",
       "        vertical-align: middle;\n",
       "    }\n",
       "\n",
       "    .dataframe tbody tr th {\n",
       "        vertical-align: top;\n",
       "    }\n",
       "\n",
       "    .dataframe thead th {\n",
       "        text-align: right;\n",
       "    }\n",
       "</style>\n",
       "<table border=\"1\" class=\"dataframe\">\n",
       "  <thead>\n",
       "    <tr style=\"text-align: right;\">\n",
       "      <th></th>\n",
       "      <th>step</th>\n",
       "      <th>amount</th>\n",
       "      <th>oldbalanceOrg</th>\n",
       "      <th>newbalanceOrig</th>\n",
       "      <th>oldbalanceDest</th>\n",
       "      <th>newbalanceDest</th>\n",
       "      <th>isFraud</th>\n",
       "      <th>CASH_IN</th>\n",
       "      <th>CASH_OUT</th>\n",
       "      <th>DEBIT</th>\n",
       "      <th>PAYMENT</th>\n",
       "      <th>TRANSFER</th>\n",
       "    </tr>\n",
       "  </thead>\n",
       "  <tbody>\n",
       "    <tr>\n",
       "      <th>0</th>\n",
       "      <td>1</td>\n",
       "      <td>181.0</td>\n",
       "      <td>181.0</td>\n",
       "      <td>0.0</td>\n",
       "      <td>0.0</td>\n",
       "      <td>0.0</td>\n",
       "      <td>1</td>\n",
       "      <td>0.0</td>\n",
       "      <td>0.0</td>\n",
       "      <td>0.0</td>\n",
       "      <td>0.0</td>\n",
       "      <td>1.0</td>\n",
       "    </tr>\n",
       "    <tr>\n",
       "      <th>1</th>\n",
       "      <td>1</td>\n",
       "      <td>181.0</td>\n",
       "      <td>181.0</td>\n",
       "      <td>0.0</td>\n",
       "      <td>21182.0</td>\n",
       "      <td>0.0</td>\n",
       "      <td>1</td>\n",
       "      <td>0.0</td>\n",
       "      <td>1.0</td>\n",
       "      <td>0.0</td>\n",
       "      <td>0.0</td>\n",
       "      <td>0.0</td>\n",
       "    </tr>\n",
       "    <tr>\n",
       "      <th>2</th>\n",
       "      <td>1</td>\n",
       "      <td>2806.0</td>\n",
       "      <td>2806.0</td>\n",
       "      <td>0.0</td>\n",
       "      <td>0.0</td>\n",
       "      <td>0.0</td>\n",
       "      <td>1</td>\n",
       "      <td>0.0</td>\n",
       "      <td>0.0</td>\n",
       "      <td>0.0</td>\n",
       "      <td>0.0</td>\n",
       "      <td>1.0</td>\n",
       "    </tr>\n",
       "    <tr>\n",
       "      <th>3</th>\n",
       "      <td>1</td>\n",
       "      <td>2806.0</td>\n",
       "      <td>2806.0</td>\n",
       "      <td>0.0</td>\n",
       "      <td>26202.0</td>\n",
       "      <td>0.0</td>\n",
       "      <td>1</td>\n",
       "      <td>0.0</td>\n",
       "      <td>1.0</td>\n",
       "      <td>0.0</td>\n",
       "      <td>0.0</td>\n",
       "      <td>0.0</td>\n",
       "    </tr>\n",
       "    <tr>\n",
       "      <th>4</th>\n",
       "      <td>1</td>\n",
       "      <td>20128.0</td>\n",
       "      <td>20128.0</td>\n",
       "      <td>0.0</td>\n",
       "      <td>0.0</td>\n",
       "      <td>0.0</td>\n",
       "      <td>1</td>\n",
       "      <td>0.0</td>\n",
       "      <td>0.0</td>\n",
       "      <td>0.0</td>\n",
       "      <td>0.0</td>\n",
       "      <td>1.0</td>\n",
       "    </tr>\n",
       "  </tbody>\n",
       "</table>\n",
       "</div>"
      ],
      "text/plain": [
       "   step   amount  oldbalanceOrg  newbalanceOrig  oldbalanceDest  \\\n",
       "0     1    181.0          181.0             0.0             0.0   \n",
       "1     1    181.0          181.0             0.0         21182.0   \n",
       "2     1   2806.0         2806.0             0.0             0.0   \n",
       "3     1   2806.0         2806.0             0.0         26202.0   \n",
       "4     1  20128.0        20128.0             0.0             0.0   \n",
       "\n",
       "   newbalanceDest  isFraud  CASH_IN  CASH_OUT  DEBIT  PAYMENT  TRANSFER  \n",
       "0             0.0        1      0.0       0.0    0.0      0.0       1.0  \n",
       "1             0.0        1      0.0       1.0    0.0      0.0       0.0  \n",
       "2             0.0        1      0.0       0.0    0.0      0.0       1.0  \n",
       "3             0.0        1      0.0       1.0    0.0      0.0       0.0  \n",
       "4             0.0        1      0.0       0.0    0.0      0.0       1.0  "
      ]
     },
     "execution_count": 3,
     "metadata": {},
     "output_type": "execute_result"
    }
   ],
   "source": [
    "data.head()"
   ]
  },
  {
   "cell_type": "code",
   "execution_count": 4,
   "metadata": {},
   "outputs": [
    {
     "data": {
      "text/html": [
       "<div>\n",
       "<style scoped>\n",
       "    .dataframe tbody tr th:only-of-type {\n",
       "        vertical-align: middle;\n",
       "    }\n",
       "\n",
       "    .dataframe tbody tr th {\n",
       "        vertical-align: top;\n",
       "    }\n",
       "\n",
       "    .dataframe thead th {\n",
       "        text-align: right;\n",
       "    }\n",
       "</style>\n",
       "<table border=\"1\" class=\"dataframe\">\n",
       "  <thead>\n",
       "    <tr style=\"text-align: right;\">\n",
       "      <th></th>\n",
       "      <th>step</th>\n",
       "      <th>amount</th>\n",
       "      <th>oldbalanceOrg</th>\n",
       "      <th>newbalanceOrig</th>\n",
       "      <th>oldbalanceDest</th>\n",
       "      <th>newbalanceDest</th>\n",
       "      <th>isFraud</th>\n",
       "      <th>CASH_IN</th>\n",
       "      <th>CASH_OUT</th>\n",
       "      <th>DEBIT</th>\n",
       "      <th>PAYMENT</th>\n",
       "      <th>TRANSFER</th>\n",
       "    </tr>\n",
       "  </thead>\n",
       "  <tbody>\n",
       "    <tr>\n",
       "      <th>count</th>\n",
       "      <td>20213.000000</td>\n",
       "      <td>2.021300e+04</td>\n",
       "      <td>2.021300e+04</td>\n",
       "      <td>2.021300e+04</td>\n",
       "      <td>2.021300e+04</td>\n",
       "      <td>2.021300e+04</td>\n",
       "      <td>20213.000000</td>\n",
       "      <td>20213.000000</td>\n",
       "      <td>20213.000000</td>\n",
       "      <td>20213.000000</td>\n",
       "      <td>20213.000000</td>\n",
       "      <td>20213.000000</td>\n",
       "    </tr>\n",
       "    <tr>\n",
       "      <th>mean</th>\n",
       "      <td>152.465641</td>\n",
       "      <td>6.583322e+05</td>\n",
       "      <td>1.163290e+06</td>\n",
       "      <td>5.844810e+05</td>\n",
       "      <td>7.405296e+05</td>\n",
       "      <td>1.186487e+06</td>\n",
       "      <td>0.406323</td>\n",
       "      <td>0.108148</td>\n",
       "      <td>0.281700</td>\n",
       "      <td>0.018305</td>\n",
       "      <td>0.333053</td>\n",
       "      <td>0.258794</td>\n",
       "    </tr>\n",
       "    <tr>\n",
       "      <th>std</th>\n",
       "      <td>225.713131</td>\n",
       "      <td>1.682107e+06</td>\n",
       "      <td>2.795316e+06</td>\n",
       "      <td>2.082488e+06</td>\n",
       "      <td>2.920627e+06</td>\n",
       "      <td>3.454661e+06</td>\n",
       "      <td>0.491158</td>\n",
       "      <td>0.310575</td>\n",
       "      <td>0.449839</td>\n",
       "      <td>0.134055</td>\n",
       "      <td>0.471317</td>\n",
       "      <td>0.437983</td>\n",
       "    </tr>\n",
       "    <tr>\n",
       "      <th>min</th>\n",
       "      <td>1.000000</td>\n",
       "      <td>0.000000e+00</td>\n",
       "      <td>0.000000e+00</td>\n",
       "      <td>0.000000e+00</td>\n",
       "      <td>0.000000e+00</td>\n",
       "      <td>0.000000e+00</td>\n",
       "      <td>0.000000</td>\n",
       "      <td>0.000000</td>\n",
       "      <td>0.000000</td>\n",
       "      <td>0.000000</td>\n",
       "      <td>0.000000</td>\n",
       "      <td>0.000000</td>\n",
       "    </tr>\n",
       "    <tr>\n",
       "      <th>25%</th>\n",
       "      <td>5.000000</td>\n",
       "      <td>8.282810e+03</td>\n",
       "      <td>1.027000e+04</td>\n",
       "      <td>0.000000e+00</td>\n",
       "      <td>0.000000e+00</td>\n",
       "      <td>0.000000e+00</td>\n",
       "      <td>0.000000</td>\n",
       "      <td>0.000000</td>\n",
       "      <td>0.000000</td>\n",
       "      <td>0.000000</td>\n",
       "      <td>0.000000</td>\n",
       "      <td>0.000000</td>\n",
       "    </tr>\n",
       "    <tr>\n",
       "      <th>50%</th>\n",
       "      <td>7.000000</td>\n",
       "      <td>8.600587e+04</td>\n",
       "      <td>9.342000e+04</td>\n",
       "      <td>0.000000e+00</td>\n",
       "      <td>0.000000e+00</td>\n",
       "      <td>0.000000e+00</td>\n",
       "      <td>0.000000</td>\n",
       "      <td>0.000000</td>\n",
       "      <td>0.000000</td>\n",
       "      <td>0.000000</td>\n",
       "      <td>0.000000</td>\n",
       "      <td>0.000000</td>\n",
       "    </tr>\n",
       "    <tr>\n",
       "      <th>75%</th>\n",
       "      <td>279.000000</td>\n",
       "      <td>3.943881e+05</td>\n",
       "      <td>8.105992e+05</td>\n",
       "      <td>2.537940e+04</td>\n",
       "      <td>2.147965e+05</td>\n",
       "      <td>6.107014e+05</td>\n",
       "      <td>1.000000</td>\n",
       "      <td>0.000000</td>\n",
       "      <td>1.000000</td>\n",
       "      <td>0.000000</td>\n",
       "      <td>1.000000</td>\n",
       "      <td>1.000000</td>\n",
       "    </tr>\n",
       "    <tr>\n",
       "      <th>max</th>\n",
       "      <td>743.000000</td>\n",
       "      <td>1.000000e+07</td>\n",
       "      <td>5.958504e+07</td>\n",
       "      <td>4.958504e+07</td>\n",
       "      <td>2.362305e+08</td>\n",
       "      <td>2.367265e+08</td>\n",
       "      <td>1.000000</td>\n",
       "      <td>1.000000</td>\n",
       "      <td>1.000000</td>\n",
       "      <td>1.000000</td>\n",
       "      <td>1.000000</td>\n",
       "      <td>1.000000</td>\n",
       "    </tr>\n",
       "  </tbody>\n",
       "</table>\n",
       "</div>"
      ],
      "text/plain": [
       "               step        amount  oldbalanceOrg  newbalanceOrig  \\\n",
       "count  20213.000000  2.021300e+04   2.021300e+04    2.021300e+04   \n",
       "mean     152.465641  6.583322e+05   1.163290e+06    5.844810e+05   \n",
       "std      225.713131  1.682107e+06   2.795316e+06    2.082488e+06   \n",
       "min        1.000000  0.000000e+00   0.000000e+00    0.000000e+00   \n",
       "25%        5.000000  8.282810e+03   1.027000e+04    0.000000e+00   \n",
       "50%        7.000000  8.600587e+04   9.342000e+04    0.000000e+00   \n",
       "75%      279.000000  3.943881e+05   8.105992e+05    2.537940e+04   \n",
       "max      743.000000  1.000000e+07   5.958504e+07    4.958504e+07   \n",
       "\n",
       "       oldbalanceDest  newbalanceDest       isFraud       CASH_IN  \\\n",
       "count    2.021300e+04    2.021300e+04  20213.000000  20213.000000   \n",
       "mean     7.405296e+05    1.186487e+06      0.406323      0.108148   \n",
       "std      2.920627e+06    3.454661e+06      0.491158      0.310575   \n",
       "min      0.000000e+00    0.000000e+00      0.000000      0.000000   \n",
       "25%      0.000000e+00    0.000000e+00      0.000000      0.000000   \n",
       "50%      0.000000e+00    0.000000e+00      0.000000      0.000000   \n",
       "75%      2.147965e+05    6.107014e+05      1.000000      0.000000   \n",
       "max      2.362305e+08    2.367265e+08      1.000000      1.000000   \n",
       "\n",
       "           CASH_OUT         DEBIT       PAYMENT      TRANSFER  \n",
       "count  20213.000000  20213.000000  20213.000000  20213.000000  \n",
       "mean       0.281700      0.018305      0.333053      0.258794  \n",
       "std        0.449839      0.134055      0.471317      0.437983  \n",
       "min        0.000000      0.000000      0.000000      0.000000  \n",
       "25%        0.000000      0.000000      0.000000      0.000000  \n",
       "50%        0.000000      0.000000      0.000000      0.000000  \n",
       "75%        1.000000      0.000000      1.000000      1.000000  \n",
       "max        1.000000      1.000000      1.000000      1.000000  "
      ]
     },
     "execution_count": 4,
     "metadata": {},
     "output_type": "execute_result"
    }
   ],
   "source": [
    "data.describe()"
   ]
  },
  {
   "cell_type": "code",
   "execution_count": 5,
   "metadata": {},
   "outputs": [],
   "source": [
    "def plot_dist(df, features=[]):\n",
    "    fig, ax = plt.subplots(2, 3, figsize=(20, 10))\n",
    "    ax = ax.flatten()\n",
    "    index = 0\n",
    "    for k in pred_clms:\n",
    "        sns.distplot(df[k], ax=ax[index])\n",
    "        index += 1"
   ]
  },
  {
   "cell_type": "code",
   "execution_count": 6,
   "metadata": {},
   "outputs": [
    {
     "data": {
      "image/png": "[encoded data removed]",
      "text/plain": [
       "<Figure size 1440x720 with 6 Axes>"
      ]
     },
     "metadata": {
      "needs_background": "light"
     },
     "output_type": "display_data"
    }
   ],
   "source": [
    "pred_clms = ['step', 'amount', 'oldbalanceOrg', 'newbalanceOrig', 'oldbalanceDest', 'newbalanceDest'] # 'CASH_IN', 'CASH_OUT', 'DEBIT', 'PAYMENT', 'TRANSFER'\n",
    "plot_dist(data, pred_clms)"
   ]
  },
  {
   "cell_type": "code",
   "execution_count": 7,
   "metadata": {},
   "outputs": [],
   "source": [
    "from sklearn.model_selection import train_test_split\n",
    "def split(data, target, test_size=0.2, shuffle=True, random_state=42):\n",
    "    x = data.drop(columns=[target])\n",
    "    y = data[target]\n",
    "    x_train, x_test, y_train, y_test = train_test_split(x, y, random_state=random_state, shuffle=shuffle, test_size=test_size)\n",
    "    return x_train, x_test, y_train, y_test"
   ]
  },
  {
   "cell_type": "code",
   "execution_count": 8,
   "metadata": {},
   "outputs": [],
   "source": [
    "def execute_model(model, x_train, x_test, y_train, y_test):\n",
    "    model.fit(x_train, y_train)\n",
    "    print('Test score : ', model.score(x_test, y_test))"
   ]
  },
  {
   "cell_type": "code",
   "execution_count": 9,
   "metadata": {},
   "outputs": [],
   "source": [
    "from sklearn.preprocessing import StandardScaler\n",
    "\n",
    "def scale(x_train, x_test):\n",
    "    scaler = StandardScaler()\n",
    "    x_train= scaler.fit_transform(x_train)\n",
    "    x_test= scaler.fit_transform(x_test)\n",
    "    return x_train, x_test"
   ]
  },
  {
   "cell_type": "code",
   "execution_count": 10,
   "metadata": {},
   "outputs": [],
   "source": [
    "from scipy.special import boxcox1p\n",
    "\n",
    "\n",
    "def test_model(model):\n",
    "\n",
    "    x_train, x_test, y_train, y_test = split(data,'isFraud', test_size=0.3)\n",
    "\n",
    "    print(\"Raw Data\")\n",
    "    print(\"Before scaling: \")\n",
    "    execute_model(model, x_train, x_test, y_train, y_test)\n",
    "\n",
    "    x_train, x_test = scale(x_train, x_test)\n",
    "    print(\"After scaling: \")\n",
    "    execute_model(model, x_train, x_test, y_train, y_test)\n",
    "    print()\n",
    "\n",
    "    \n",
    "    # Log Transform\n",
    "    data_log = data.copy()\n",
    "    for k in pred_clms:\n",
    "        data_log[k] = np.log(np.ma.array(data_log[k]))\n",
    "\n",
    "    x_train, x_test, y_train, y_test = split(data_log,'isFraud', test_size=0.3)\n",
    "\n",
    "    print(\"Log Normal\")\n",
    "    print(\"Before scaling: \")\n",
    "    execute_model(model, x_train, x_test, y_train, y_test)\n",
    "\n",
    "    x_train, x_test = scale(x_train, x_test)\n",
    "    print(\"After scaling: \")\n",
    "    execute_model(model, x_train, x_test, y_train, y_test)\n",
    "    print()\n",
    "    \n",
    "    \n",
    "    # Cube root Transform\n",
    "    data_cube = data.copy()\n",
    "    for k in pred_clms:\n",
    "        data_cube[k] = data_cube[k] ** (1/3)\n",
    "\n",
    "    x_train, x_test, y_train, y_test = split(data_cube,'isFraud', test_size=0.3)\n",
    "\n",
    "    print(\"Cube root\")\n",
    "    print(\"Before scaling: \")\n",
    "    execute_model(model, x_train, x_test, y_train, y_test)\n",
    "\n",
    "    x_train, x_test = scale(x_train, x_test)\n",
    "    print(\"After scaling: \")\n",
    "    execute_model(model, x_train, x_test, y_train, y_test)\n",
    "    print()\n",
    "    \n",
    "    \n",
    "    # Box Transform\n",
    "    data_box = data.copy()\n",
    "    for k in pred_clms:\n",
    "        data_box[k] = boxcox1p(data_box[k], 0.001)\n",
    "\n",
    "    x_train, x_test, y_train, y_test = split(data_box,'isFraud', test_size=0.3)\n",
    "\n",
    "    print(\"BoxCox\")\n",
    "    print(\"Before scaling: \")\n",
    "    execute_model(model, x_train, x_test, y_train, y_test)\n",
    "\n",
    "    x_train, x_test = scale(x_train, x_test)\n",
    "    print(\"After scaling: \")\n",
    "    execute_model(model, x_train, x_test, y_train, y_test)"
   ]
  },
  {
   "cell_type": "code",
   "execution_count": 11,
   "metadata": {
    "scrolled": true
   },
   "outputs": [],
   "source": [
    "from sklearn.model_selection import GridSearchCV\n",
    "\n",
    "def grid_search(model, params, x_train, y_train):\n",
    "    grid = GridSearchCV(model, params)\n",
    "    grid.fit(x_train, y_train)\n",
    "    print(grid.best_params_)\n",
    "    print(grid.best_score_)"
   ]
  },
  {
   "cell_type": "markdown",
   "metadata": {},
   "source": [
    "# KNN"
   ]
  },
  {
   "cell_type": "code",
   "execution_count": 12,
   "metadata": {},
   "outputs": [
    {
     "name": "stdout",
     "output_type": "stream",
     "text": [
      "Raw Data\n",
      "Before scaling: \n",
      "Test score :  0.9762532981530343\n",
      "After scaling: \n",
      "Test score :  0.983344327176781\n",
      "\n",
      "Log Normal\n",
      "Before scaling: \n",
      "Test score :  0.9967018469656992\n",
      "After scaling: \n",
      "Test score :  0.9965369393139841\n",
      "\n",
      "Cube root\n",
      "Before scaling: \n",
      "Test score :  0.9892810026385225\n",
      "After scaling: \n",
      "Test score :  0.9965369393139841\n",
      "\n",
      "BoxCox\n",
      "Before scaling: \n",
      "Test score :  0.996042216358839\n",
      "After scaling: \n",
      "Test score :  0.9968667546174143\n"
     ]
    }
   ],
   "source": [
    "from sklearn.neighbors import KNeighborsClassifier\n",
    "test_model(KNeighborsClassifier())"
   ]
  },
  {
   "cell_type": "markdown",
   "metadata": {},
   "source": [
    "# Logistic Regression"
   ]
  },
  {
   "cell_type": "code",
   "execution_count": 13,
   "metadata": {},
   "outputs": [
    {
     "name": "stdout",
     "output_type": "stream",
     "text": [
      "Raw Data\n",
      "Before scaling: \n",
      "Test score :  0.7036609498680739\n",
      "After scaling: \n",
      "Test score :  0.9882915567282322\n",
      "\n",
      "Log Normal\n",
      "Before scaling: \n",
      "Test score :  0.9947229551451188\n",
      "After scaling: \n",
      "Test score :  0.9947229551451188\n",
      "\n",
      "Cube root\n",
      "Before scaling: \n",
      "Test score :  0.9952176781002638\n",
      "After scaling: \n",
      "Test score :  0.9938984168865436\n",
      "\n",
      "BoxCox\n",
      "Before scaling: \n",
      "Test score :  0.9947229551451188\n",
      "After scaling: \n",
      "Test score :  0.9947229551451188\n"
     ]
    }
   ],
   "source": [
    "from sklearn.linear_model import LogisticRegression\n",
    "test_model(LogisticRegression())"
   ]
  },
  {
   "cell_type": "markdown",
   "metadata": {},
   "source": [
    "# Naive Bayes"
   ]
  },
  {
   "cell_type": "code",
   "execution_count": 14,
   "metadata": {},
   "outputs": [
    {
     "name": "stdout",
     "output_type": "stream",
     "text": [
      "Raw Data\n",
      "Before scaling: \n",
      "Test score :  0.8573548812664907\n",
      "After scaling: \n",
      "Test score :  0.6551781002638523\n",
      "\n",
      "Log Normal\n",
      "Before scaling: \n",
      "Test score :  0.8944591029023746\n",
      "After scaling: \n",
      "Test score :  0.5956464379947229\n",
      "\n",
      "Cube root\n",
      "Before scaling: \n",
      "Test score :  0.8656002638522428\n",
      "After scaling: \n",
      "Test score :  0.5956464379947229\n",
      "\n",
      "BoxCox\n",
      "Before scaling: \n",
      "Test score :  0.8994063324538258\n",
      "After scaling: \n",
      "Test score :  0.5956464379947229\n"
     ]
    }
   ],
   "source": [
    "from sklearn.naive_bayes import GaussianNB\n",
    "test_model(GaussianNB())"
   ]
  },
  {
   "cell_type": "code",
   "execution_count": 15,
   "metadata": {},
   "outputs": [
    {
     "name": "stdout",
     "output_type": "stream",
     "text": [
      "Raw Data\n",
      "Before scaling: \n",
      "Test score :  0.9478891820580475\n",
      "After scaling: \n",
      "Test score :  0.9320580474934037\n",
      "\n",
      "Log Normal\n",
      "Before scaling: \n",
      "Test score :  0.8964379947229552\n",
      "After scaling: \n",
      "Test score :  0.978891820580475\n",
      "\n",
      "Cube root\n",
      "Before scaling: \n",
      "Test score :  0.9478891820580475\n",
      "After scaling: \n",
      "Test score :  0.9246372031662269\n",
      "\n",
      "BoxCox\n",
      "Before scaling: \n",
      "Test score :  0.9478891820580475\n",
      "After scaling: \n",
      "Test score :  0.9770778364116095\n"
     ]
    }
   ],
   "source": [
    "from sklearn.naive_bayes import BernoulliNB\n",
    "test_model(BernoulliNB())"
   ]
  },
  {
   "cell_type": "markdown",
   "metadata": {},
   "source": [
    "# SVM"
   ]
  },
  {
   "cell_type": "code",
   "execution_count": 16,
   "metadata": {},
   "outputs": [
    {
     "name": "stdout",
     "output_type": "stream",
     "text": [
      "Raw Data\n",
      "Before scaling: \n",
      "Test score :  0.8796174142480211\n",
      "After scaling: \n",
      "Test score :  0.9848284960422163\n",
      "\n",
      "Log Normal\n",
      "Before scaling: \n",
      "Test score :  0.9940633245382586\n",
      "After scaling: \n",
      "Test score :  0.9962071240105541\n",
      "\n",
      "Cube root\n",
      "Before scaling: \n",
      "Test score :  0.9897757255936676\n",
      "After scaling: \n",
      "Test score :  0.995547493403694\n",
      "\n",
      "BoxCox\n",
      "Before scaling: \n",
      "Test score :  0.9943931398416886\n",
      "After scaling: \n",
      "Test score :  0.996042216358839\n"
     ]
    }
   ],
   "source": [
    "from sklearn.svm import SVC\n",
    "test_model(SVC())"
   ]
  },
  {
   "cell_type": "code",
   "execution_count": 17,
   "metadata": {},
   "outputs": [
    {
     "name": "stdout",
     "output_type": "stream",
     "text": [
      "Raw Data\n",
      "Before scaling: \n",
      "Test score :  0.9571240105540897\n",
      "After scaling: \n",
      "Test score :  0.991754617414248\n",
      "\n",
      "Log Normal\n",
      "Before scaling: \n",
      "Test score :  0.9942282321899736\n",
      "After scaling: \n",
      "Test score :  0.9947229551451188\n",
      "\n",
      "Cube root\n",
      "Before scaling: \n",
      "Test score :  0.9927440633245382\n",
      "After scaling: \n",
      "Test score :  0.9948878627968337\n",
      "\n",
      "BoxCox\n",
      "Before scaling: \n",
      "Test score :  0.9932387862796834\n",
      "After scaling: \n",
      "Test score :  0.9945580474934037\n"
     ]
    }
   ],
   "source": [
    "from sklearn.svm import LinearSVC\n",
    "test_model(LinearSVC())"
   ]
  },
  {
   "cell_type": "code",
   "execution_count": 18,
   "metadata": {},
   "outputs": [
    {
     "name": "stdout",
     "output_type": "stream",
     "text": [
      "Raw Data\n",
      "Before scaling: \n",
      "Test score :  0.8189313984168866\n",
      "After scaling: \n",
      "Test score :  0.8886873350923483\n",
      "\n",
      "Log Normal\n",
      "Before scaling: \n",
      "Test score :  0.9548153034300791\n",
      "After scaling: \n",
      "Test score :  0.9826846965699209\n",
      "\n",
      "Cube root\n",
      "Before scaling: \n",
      "Test score :  0.9069920844327177\n",
      "After scaling: \n",
      "Test score :  0.9838390501319261\n",
      "\n",
      "BoxCox\n",
      "Before scaling: \n",
      "Test score :  0.9454155672823219\n",
      "After scaling: \n",
      "Test score :  0.9844986807387863\n"
     ]
    }
   ],
   "source": [
    "from sklearn.svm import NuSVC\n",
    "test_model(NuSVC())"
   ]
  },
  {
   "cell_type": "code",
   "execution_count": null,
   "metadata": {},
   "outputs": [],
   "source": []
  }
 ],
 "metadata": {
  "kernelspec": {
   "display_name": "Python 3",
   "language": "python",
   "name": "python3"
  },
  "language_info": {
   "codemirror_mode": {
    "name": "ipython",
    "version": 3
   },
   "file_extension": ".py",
   "mimetype": "text/x-python",
   "name": "python",
   "nbconvert_exporter": "python",
   "pygments_lexer": "ipython3",
   "version": "3.6.9"
  }
 },
 "nbformat": 4,
 "nbformat_minor": 4
}
