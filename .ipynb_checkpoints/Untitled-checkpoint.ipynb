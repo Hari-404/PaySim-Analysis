{
 "cells": [
  {
   "cell_type": "code",
   "execution_count": null,
   "metadata": {},
   "outputs": [],
   "source": [
    "import pandas as pd\n",
    "import numpy as np\n",
    "import matplotlib.pyplot as plt\n",
    "import seaborn as sns\n",
    "\n",
    "import warnings\n",
    "warnings.filterwarnings('ignore')"
   ]
  },
  {
   "cell_type": "code",
   "execution_count": null,
   "metadata": {},
   "outputs": [],
   "source": [
    "data = pd.read_csv('fraud_pred.csv')"
   ]
  },
  {
   "cell_type": "code",
   "execution_count": null,
   "metadata": {},
   "outputs": [],
   "source": [
    "data.head()"
   ]
  },
  {
   "cell_type": "code",
   "execution_count": null,
   "metadata": {},
   "outputs": [],
   "source": [
    "data.describe()"
   ]
  },
  {
   "cell_type": "code",
   "execution_count": null,
   "metadata": {},
   "outputs": [],
   "source": [
    "def plot_dist(df, features=[]):\n",
    "    fig, ax = plt.subplots(2, 3, figsize=(20, 10))\n",
    "    ax = ax.flatten()\n",
    "    index = 0\n",
    "    for k in pred_clms:\n",
    "        sns.distplot(df[k], ax=ax[index])\n",
    "        index += 1"
   ]
  },
  {
   "cell_type": "code",
   "execution_count": null,
   "metadata": {},
   "outputs": [],
   "source": [
    "pred_clms = ['step', 'amount', 'oldbalanceOrg', 'newbalanceOrig', 'oldbalanceDest', 'newbalanceDest'] # 'CASH_IN', 'CASH_OUT', 'DEBIT', 'PAYMENT', 'TRANSFER'\n",
    "plot_dist(data, pred_clms)"
   ]
  },
  {
   "cell_type": "code",
   "execution_count": null,
   "metadata": {},
   "outputs": [],
   "source": [
    "from sklearn.model_selection import train_test_split\n",
    "def split(data, target, test_size=0.2, shuffle=True, random_state=42):\n",
    "    x = data.drop(columns=[target])\n",
    "    y = data[target]\n",
    "    x_train, x_test, y_train, y_test = train_test_split(x, y, random_state=random_state, shuffle=shuffle, test_size=test_size)\n",
    "    return x_train, x_test, y_train, y_test"
   ]
  },
  {
   "cell_type": "code",
   "execution_count": null,
   "metadata": {},
   "outputs": [],
   "source": [
    "def execute_model(model, x_train, x_test, y_train, y_test):\n",
    "    model.fit(x_train, y_train)\n",
    "    print('Test score : ', model.score(x_test, y_test))"
   ]
  },
  {
   "cell_type": "code",
   "execution_count": null,
   "metadata": {},
   "outputs": [],
   "source": [
    "from sklearn.preprocessing import StandardScaler\n",
    "\n",
    "def scale(x_train, x_test):\n",
    "    scaler = StandardScaler()\n",
    "    x_train= scaler.fit_transform(x_train)\n",
    "    x_test= scaler.fit_transform(x_test)\n",
    "    return x_train, x_test"
   ]
  },
  {
   "cell_type": "code",
   "execution_count": null,
   "metadata": {},
   "outputs": [],
   "source": [
    "from scipy.special import boxcox1p\n",
    "\n",
    "\n",
    "def test_model(model):\n",
    "\n",
    "    x_train, x_test, y_train, y_test = split(data,'isFraud', test_size=0.3)\n",
    "\n",
    "    print(\"Raw Data\")\n",
    "    print(\"Before scaling: \")\n",
    "    execute_model(model, x_train, x_test, y_train, y_test)\n",
    "\n",
    "    x_train, x_test = scale(x_train, x_test)\n",
    "    print(\"After scaling: \")\n",
    "    execute_model(model, x_train, x_test, y_train, y_test)\n",
    "    print()\n",
    "\n",
    "    \n",
    "    # Log Transform\n",
    "    data_log = data.copy()\n",
    "    for k in pred_clms:\n",
    "        data_log[k] = np.log(np.ma.array(data_log[k]))\n",
    "\n",
    "    x_train, x_test, y_train, y_test = split(data_log,'isFraud', test_size=0.3)\n",
    "\n",
    "    print(\"Log Normal\")\n",
    "    print(\"Before scaling: \")\n",
    "    execute_model(model, x_train, x_test, y_train, y_test)\n",
    "\n",
    "    x_train, x_test = scale(x_train, x_test)\n",
    "    print(\"After scaling: \")\n",
    "    execute_model(model, x_train, x_test, y_train, y_test)\n",
    "    print()\n",
    "    \n",
    "    \n",
    "    # Cube root Transform\n",
    "    data_cube = data.copy()\n",
    "    for k in pred_clms:\n",
    "        data_cube[k] = data_cube[k] ** (1/3)\n",
    "\n",
    "    x_train, x_test, y_train, y_test = split(data_cube,'isFraud', test_size=0.3)\n",
    "\n",
    "    print(\"Cube root\")\n",
    "    print(\"Before scaling: \")\n",
    "    execute_model(model, x_train, x_test, y_train, y_test)\n",
    "\n",
    "    x_train, x_test = scale(x_train, x_test)\n",
    "    print(\"After scaling: \")\n",
    "    execute_model(model, x_train, x_test, y_train, y_test)\n",
    "    print()\n",
    "    \n",
    "    \n",
    "    # Box Transform\n",
    "    data_box = data.copy()\n",
    "    for k in pred_clms:\n",
    "        data_box[k] = boxcox1p(data_box[k], 0.001)\n",
    "\n",
    "    x_train, x_test, y_train, y_test = split(data_box,'isFraud', test_size=0.3)\n",
    "\n",
    "    print(\"BoxCox\")\n",
    "    print(\"Before scaling: \")\n",
    "    execute_model(model, x_train, x_test, y_train, y_test)\n",
    "\n",
    "    x_train, x_test = scale(x_train, x_test)\n",
    "    print(\"After scaling: \")\n",
    "    execute_model(model, x_train, x_test, y_train, y_test)"
   ]
  },
  {
   "cell_type": "code",
   "execution_count": null,
   "metadata": {
    "scrolled": true
   },
   "outputs": [],
   "source": [
    "from sklearn.model_selection import GridSearchCV\n",
    "\n",
    "def grid_search(model, params, x_train, y_train):\n",
    "    grid = GridSearchCV(model, params)\n",
    "    grid.fit(x_train, y_train)\n",
    "    print(grid.best_params_)\n",
    "    print(grid.best_score_)"
   ]
  },
  {
   "cell_type": "markdown",
   "metadata": {},
   "source": [
    "# KNN"
   ]
  },
  {
   "cell_type": "code",
   "execution_count": null,
   "metadata": {},
   "outputs": [],
   "source": [
    "from sklearn.neighbors import KNeighborsClassifier\n",
    "test_model(KNeighborsClassifier())"
   ]
  },
  {
   "cell_type": "markdown",
   "metadata": {},
   "source": [
    "# Logistic Regression"
   ]
  },
  {
   "cell_type": "code",
   "execution_count": null,
   "metadata": {},
   "outputs": [],
   "source": [
    "from sklearn.linear_model import LogisticRegression\n",
    "test_model(LogisticRegression())"
   ]
  },
  {
   "cell_type": "code",
   "execution_count": null,
   "metadata": {},
   "outputs": [],
   "source": []
  },
  {
   "cell_type": "markdown",
   "metadata": {},
   "source": [
    "# Naive Bayes"
   ]
  },
  {
   "cell_type": "code",
   "execution_count": null,
   "metadata": {},
   "outputs": [],
   "source": [
    "from sklearn.naive_bayes import GaussianNB\n",
    "test_model(GaussianNB())"
   ]
  },
  {
   "cell_type": "code",
   "execution_count": null,
   "metadata": {},
   "outputs": [],
   "source": [
    "from sklearn.naive_bayes import BernoulliNB\n",
    "test_model(BernoulliNB())"
   ]
  },
  {
   "cell_type": "markdown",
   "metadata": {},
   "source": [
    "# SVM"
   ]
  },
  {
   "cell_type": "code",
   "execution_count": null,
   "metadata": {},
   "outputs": [],
   "source": [
    "from sklearn.svm import SVC\n",
    "test_model(SVC())"
   ]
  },
  {
   "cell_type": "code",
   "execution_count": null,
   "metadata": {},
   "outputs": [],
   "source": [
    "from sklearn.svm import LinearSVC\n",
    "test_model(LinearSVC())"
   ]
  },
  {
   "cell_type": "code",
   "execution_count": null,
   "metadata": {},
   "outputs": [],
   "source": [
    "from sklearn.svm import NuSVC\n",
    "test_model(NuSVC())"
   ]
  },
  {
   "cell_type": "code",
   "execution_count": null,
   "metadata": {},
   "outputs": [],
   "source": []
  }
 ],
 "metadata": {
  "kernelspec": {
   "display_name": "Python 3",
   "language": "python",
   "name": "python3"
  },
  "language_info": {
   "codemirror_mode": {
    "name": "ipython",
    "version": 3
   },
   "file_extension": ".py",
   "mimetype": "text/x-python",
   "name": "python",
   "nbconvert_exporter": "python",
   "pygments_lexer": "ipython3",
   "version": "3.6.9"
  }
 },
 "nbformat": 4,
 "nbformat_minor": 4
}
